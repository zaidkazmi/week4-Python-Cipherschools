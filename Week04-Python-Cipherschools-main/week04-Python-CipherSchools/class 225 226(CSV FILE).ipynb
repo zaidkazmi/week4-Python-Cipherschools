{
 "cells": [
  {
   "cell_type": "code",
   "execution_count": 2,
   "metadata": {},
   "outputs": [
    {
     "name": "stdout",
     "output_type": "stream",
     "text": [
      "['name', 'email', 'phone']\n",
      "['isha', 'vermaisha7664@gmail.com', '+9127892794']\n",
      "['athira', 'athira@gmail.com', '+912478933']\n"
     ]
    }
   ],
   "source": [
    "from csv import reader\n",
    "\n",
    "with open(\"file1.csv\",\"r\") as f:\n",
    "    csv_reader = reader(f)\n",
    "    # iterator we can use loop\n",
    "    for row in csv_reader:\n",
    "        print(row)\n"
   ]
  },
  {
   "cell_type": "code",
   "execution_count": 3,
   "metadata": {},
   "outputs": [
    {
     "name": "stdout",
     "output_type": "stream",
     "text": [
      "['isha', 'vermaisha7664@gmail.com', '+9127892794']\n",
      "['athira', 'athira@gmail.com', '+912478933']\n"
     ]
    }
   ],
   "source": [
    "from csv import reader\n",
    "\n",
    "with open(\"file1.csv\",\"r\") as f:\n",
    "    csv_reader = reader(f)\n",
    "    # iterator we can use loop\n",
    "    next(csv_reader)\n",
    "    for row in csv_reader:\n",
    "        print(row)\n"
   ]
  },
  {
   "cell_type": "code",
   "execution_count": 1,
   "metadata": {},
   "outputs": [
    {
     "name": "stdout",
     "output_type": "stream",
     "text": [
      "{'name': 'isha', 'email': 'vermaisha7664@gmail.com', 'phone': '+9127892794'}\n",
      "{'name': 'athira', 'email': 'athira@gmail.com', 'phone': '+912478933'}\n"
     ]
    }
   ],
   "source": [
    "# class 226\n",
    "from csv import DictReader\n",
    "with open(\"file1.csv\",\"r\") as f:\n",
    "    csv_reader = DictReader(f)\n",
    "    for row in csv_reader:\n",
    "        print(row)"
   ]
  },
  {
   "cell_type": "code",
   "execution_count": 3,
   "metadata": {},
   "outputs": [
    {
     "name": "stdout",
     "output_type": "stream",
     "text": [
      "isha\n",
      "athira\n"
     ]
    }
   ],
   "source": [
    "from csv import DictReader\n",
    "with open(\"file1.csv\",\"r\") as f:\n",
    "    csv_reader = DictReader(f)\n",
    "    for row in csv_reader:\n",
    "        print(row['name'])"
   ]
  },
  {
   "cell_type": "code",
   "execution_count": null,
   "metadata": {},
   "outputs": [],
   "source": [
    "# when it is not coma\n",
    "# then \n",
    "   csv_reader = DictReader(f, delimiter=\"|\")"
   ]
  },
  {
   "cell_type": "code",
   "execution_count": null,
   "metadata": {},
   "outputs": [],
   "source": []
  }
 ],
 "metadata": {
  "kernelspec": {
   "display_name": "base",
   "language": "python",
   "name": "python3"
  },
  "language_info": {
   "codemirror_mode": {
    "name": "ipython",
    "version": 3
   },
   "file_extension": ".py",
   "mimetype": "text/x-python",
   "name": "python",
   "nbconvert_exporter": "python",
   "pygments_lexer": "ipython3",
   "version": "3.9.13"
  },
  "orig_nbformat": 4,
  "vscode": {
   "interpreter": {
    "hash": "6a3f4cb4dec661377f95346190b0ae1884f28c0e9a18077ad24fc5444d7fd5ae"
   }
  }
 },
 "nbformat": 4,
 "nbformat_minor": 2
}
