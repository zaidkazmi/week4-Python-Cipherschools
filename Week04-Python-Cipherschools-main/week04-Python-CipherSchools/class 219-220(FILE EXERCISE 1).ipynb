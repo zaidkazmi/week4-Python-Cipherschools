{
 "cells": [
  {
   "cell_type": "code",
   "execution_count": null,
   "metadata": {},
   "outputs": [],
   "source": [
    "# we have a text file file7.txt\n",
    "#copy paste it in new file"
   ]
  },
  {
   "cell_type": "code",
   "execution_count": 14,
   "metadata": {},
   "outputs": [],
   "source": [
    "with open(\"exercise1.txt\",\"r\") as rf:\n",
    "    with open(\"sol1.txt\",\"a\") as wf:\n",
    "        for line in rf.readline():\n",
    "            name = line \n",
    "            wf.write(f\"{name}\\'s salary is\")\n",
    "         "
   ]
  },
  {
   "cell_type": "code",
   "execution_count": null,
   "metadata": {},
   "outputs": [],
   "source": []
  }
 ],
 "metadata": {
  "kernelspec": {
   "display_name": "base",
   "language": "python",
   "name": "python3"
  },
  "language_info": {
   "codemirror_mode": {
    "name": "ipython",
    "version": 3
   },
   "file_extension": ".py",
   "mimetype": "text/x-python",
   "name": "python",
   "nbconvert_exporter": "python",
   "pygments_lexer": "ipython3",
   "version": "3.9.13"
  },
  "orig_nbformat": 4,
  "vscode": {
   "interpreter": {
    "hash": "6a3f4cb4dec661377f95346190b0ae1884f28c0e9a18077ad24fc5444d7fd5ae"
   }
  }
 },
 "nbformat": 4,
 "nbformat_minor": 2
}
