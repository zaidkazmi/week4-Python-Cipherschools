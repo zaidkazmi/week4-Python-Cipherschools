{
 "cells": [
  {
   "cell_type": "code",
   "execution_count": null,
   "id": "879a8388",
   "metadata": {},
   "outputs": [],
   "source": [
    "# make a function 'divide'\n",
    "\n",
    "# divide (a,b)\n",
    "\n",
    "\n",
    "#print(divide (4,2)) #2\n",
    "#print (divide (4,0)) # please don't divide by zero \n",
    "#print(divide('4',2)) # please input numbers only\n"
   ]
  },
  {
   "cell_type": "code",
   "execution_count": 8,
   "id": "d946ae47",
   "metadata": {},
   "outputs": [
    {
     "name": "stdout",
     "output_type": "stream",
     "text": [
      "enter num1: 2\n",
      "enter num2: 3\n",
      "0.6666666666666666\n"
     ]
    }
   ],
   "source": [
    "try:\n",
    "    a=int(input(\"enter num1: \"))\n",
    "    b=int(input(\"enter num2: \"))\n",
    "except ZeroDivisionError:\n",
    "    print(\"Please don't divide by zero\")\n",
    "except TypeError:\n",
    "    print(\"please input numbers only\")\n",
    "else:\n",
    "      def divide(a,b):\n",
    "        return(a/b)\n",
    "print(divide(a,b))"
   ]
  },
  {
   "cell_type": "code",
   "execution_count": 16,
   "id": "78b1e00b",
   "metadata": {},
   "outputs": [
    {
     "name": "stdout",
     "output_type": "stream",
     "text": [
      "enter integer or float only\n",
      "None\n"
     ]
    }
   ],
   "source": [
    "def divide(x,y):\n",
    "    try:\n",
    "        return x/y\n",
    "    except ZeroDivisionError:\n",
    "        print(\"cannot divide by zero\")\n",
    "    except TypeError:\n",
    "        print(\"enter integer or float only\")\n",
    "    except:\n",
    "        print(\"unexpected error\")\n",
    "        \n",
    "print(divide(2,\"isha\"))"
   ]
  },
  {
   "cell_type": "code",
   "execution_count": null,
   "id": "47e1d3a2",
   "metadata": {},
   "outputs": [],
   "source": []
  },
  {
   "cell_type": "code",
   "execution_count": null,
   "id": "c150372b",
   "metadata": {},
   "outputs": [],
   "source": []
  }
 ],
 "metadata": {
  "kernelspec": {
   "display_name": "Python 3 (ipykernel)",
   "language": "python",
   "name": "python3"
  },
  "language_info": {
   "codemirror_mode": {
    "name": "ipython",
    "version": 3
   },
   "file_extension": ".py",
   "mimetype": "text/x-python",
   "name": "python",
   "nbconvert_exporter": "python",
   "pygments_lexer": "ipython3",
   "version": "3.9.13"
  }
 },
 "nbformat": 4,
 "nbformat_minor": 5
}
