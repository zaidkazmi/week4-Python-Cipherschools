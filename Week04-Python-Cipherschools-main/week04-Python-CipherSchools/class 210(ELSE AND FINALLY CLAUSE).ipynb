{
 "cells": [
  {
   "cell_type": "code",
   "execution_count": null,
   "id": "2000e42a",
   "metadata": {},
   "outputs": [],
   "source": [
    "# ELSE AND FINALLY CLAUSE IN EXCEPTION HANDLING"
   ]
  },
  {
   "cell_type": "code",
   "execution_count": 7,
   "id": "658aa733",
   "metadata": {},
   "outputs": [
    {
     "name": "stdout",
     "output_type": "stream",
     "text": [
      "enter a number: 12\n",
      "user input = 12\n",
      "finally block is ended\n"
     ]
    }
   ],
   "source": [
    "while True:\n",
    "    try: # if try not have a error then else block will run\n",
    "        num=int(input(\"enter a number: \"))\n",
    "        \n",
    "    except ValueError:\n",
    "        print(\" you didn'nt entered integer\")\n",
    "    except:\n",
    "        print(\"unexpected error \")\n",
    "    else:\n",
    "        print(f\"user input = {num}\")\n",
    "        break\n",
    "    finally: #yeh chalega chahe error aye ya na aye\n",
    "        print(\"finally block is ended\")\n",
    "        \n",
    "        \n"
   ]
  },
  {
   "cell_type": "code",
   "execution_count": null,
   "id": "ca993942",
   "metadata": {},
   "outputs": [],
   "source": []
  }
 ],
 "metadata": {
  "kernelspec": {
   "display_name": "Python 3 (ipykernel)",
   "language": "python",
   "name": "python3"
  },
  "language_info": {
   "codemirror_mode": {
    "name": "ipython",
    "version": 3
   },
   "file_extension": ".py",
   "mimetype": "text/x-python",
   "name": "python",
   "nbconvert_exporter": "python",
   "pygments_lexer": "ipython3",
   "version": "3.9.13"
  }
 },
 "nbformat": 4,
 "nbformat_minor": 5
}
