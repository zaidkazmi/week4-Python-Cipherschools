{
 "cells": [
  {
   "cell_type": "code",
   "execution_count": null,
   "id": "16eec827",
   "metadata": {},
   "outputs": [],
   "source": [
    "#readfile\n",
    "\n",
    "#open function\n",
    "\n",
    "#read method\n",
    "\n",
    "#seek method\n",
    "\n",
    "#tell method\n",
    "\n",
    "#readline method #readlines method\n",
    "\n",
    "#close method"
   ]
  },
  {
   "cell_type": "code",
   "execution_count": null,
   "id": "9c275b0c",
   "metadata": {},
   "outputs": [],
   "source": [
    "#Important things to remember. \n",
    "#Never do something Ito impress someone.\n",
    "\n",
    "#Never live your life on someone else opinions.\n",
    "#Just find whatever you love and then hustle until you don't need to introduce yourself."
   ]
  },
  {
   "cell_type": "code",
   "execution_count": 3,
   "id": "e2a0a551",
   "metadata": {},
   "outputs": [
    {
     "name": "stdout",
     "output_type": "stream",
     "text": [
      "cursor position -0\n",
      "There once was a boy named Harry Destined to be a star\n",
      "\n",
      "His parents were killed by Voldemort\n",
      "\n",
      "Who gave him a lightning scar\n",
      "\n",
      "Yo, Harry! You're a wizard!\n",
      "\n",
      "Harry goes to Hogwarts\n",
      "\n",
      "He meets Ron and Hermione McGonagall requires he play for Gryffindor\n",
      "\n",
      "Draco is a Daddy's boy\n",
      "\n",
      "Quirrell becomes unemployed\n",
      "\n",
      "The sorcerer's stone is destroyed by Dumbledore\n",
      "\n",
      "Ron breaks his wand\n",
      "\n",
      "Now Ginny's gone\n",
      "\n",
      "And Harry's in mortal danger\n",
      "\n",
      "Tom Riddle hides\n",
      "\n",
      "His snake inside\n",
      "\n",
      "His ginormous secret chamber\n",
      "cursor position -511\n"
     ]
    }
   ],
   "source": [
    "f= open(\"file1.txt\")\n",
    "print(f'cursor position -{f.tell()}')\n",
    "print(f.read())\n",
    "print(f'cursor position -{f.tell()}')\n",
    "f.close()\n"
   ]
  },
  {
   "cell_type": "code",
   "execution_count": 2,
   "id": "19099240",
   "metadata": {},
   "outputs": [
    {
     "name": "stdout",
     "output_type": "stream",
     "text": [
      "cursor position -0\n",
      "\n",
      "cursor position -0\n",
      "after seek method\n"
     ]
    }
   ],
   "source": [
    "#seek method\n",
    "f= open(\"file1.txt\")\n",
    "print(f'cursor position -{f.tell()}')\n",
    "print(f.read())\n",
    "print(f'cursor position -{f.tell()}')\n",
    "f.seek(0)\n",
    "print(\"after seek method\")\n",
    "\n",
    "f.close()"
   ]
  },
  {
   "cell_type": "code",
   "execution_count": 6,
   "id": "1e53d6f3",
   "metadata": {},
   "outputs": [
    {
     "name": "stdout",
     "output_type": "stream",
     "text": [
      "There once was a boy named Harry Destined to be a star\n",
      "\n"
     ]
    }
   ],
   "source": [
    "#readline method\n",
    "f= open(\"file1.txt\")\n",
    "print(f.readline())"
   ]
  },
  {
   "cell_type": "code",
   "execution_count": 7,
   "id": "066f6260",
   "metadata": {},
   "outputs": [
    {
     "ename": "TypeError",
     "evalue": "argument should be integer or None, not 'str'",
     "output_type": "error",
     "traceback": [
      "\u001b[1;31m---------------------------------------------------------------------------\u001b[0m",
      "\u001b[1;31mTypeError\u001b[0m                                 Traceback (most recent call last)",
      "\u001b[1;32m~\\AppData\\Local\\Temp\\ipykernel_22204\\1727379951.py\u001b[0m in \u001b[0;36m<module>\u001b[1;34m\u001b[0m\n\u001b[0;32m      1\u001b[0m \u001b[1;31m#readliness method\u001b[0m\u001b[1;33m\u001b[0m\u001b[1;33m\u001b[0m\u001b[0m\n\u001b[0;32m      2\u001b[0m \u001b[0mf\u001b[0m\u001b[1;33m=\u001b[0m \u001b[0mopen\u001b[0m\u001b[1;33m(\u001b[0m\u001b[1;34m\"file1.txt\"\u001b[0m\u001b[1;33m)\u001b[0m\u001b[1;33m\u001b[0m\u001b[1;33m\u001b[0m\u001b[0m\n\u001b[1;32m----> 3\u001b[1;33m \u001b[0mlines\u001b[0m\u001b[1;33m=\u001b[0m \u001b[0mf\u001b[0m\u001b[1;33m.\u001b[0m\u001b[0mreadlines\u001b[0m\u001b[1;33m(\u001b[0m\u001b[1;34m\"#\"\u001b[0m\u001b[1;33m)\u001b[0m\u001b[1;33m\u001b[0m\u001b[1;33m\u001b[0m\u001b[0m\n\u001b[0m\u001b[0;32m      4\u001b[0m \u001b[0mprint\u001b[0m\u001b[1;33m(\u001b[0m\u001b[0mlines\u001b[0m\u001b[1;33m)\u001b[0m\u001b[1;33m\u001b[0m\u001b[1;33m\u001b[0m\u001b[0m\n",
      "\u001b[1;31mTypeError\u001b[0m: argument should be integer or None, not 'str'"
     ]
    }
   ],
   "source": [
    "#readliness method\n",
    "f= open(\"file1.txt\")\n",
    "lines= f.readlines()\n",
    "print(lines)\n"
   ]
  },
  {
   "cell_type": "code",
   "execution_count": 1,
   "id": "d38261be",
   "metadata": {},
   "outputs": [
    {
     "name": "stdout",
     "output_type": "stream",
     "text": [
      "<_io.TextIOWrapper name='file1.txt' mode='r' encoding='cp1252'>\n"
     ]
    }
   ],
   "source": [
    "f=open(\"file1.txt\")\n",
    "f.read()\n",
    "print(f)"
   ]
  },
  {
   "cell_type": "code",
   "execution_count": 5,
   "id": "24ba4cf8",
   "metadata": {},
   "outputs": [
    {
     "name": "stdout",
     "output_type": "stream",
     "text": [
      "There once was a boy named Harry Destined to be a star\n",
      "\n",
      "His parents were killed by Voldemort\n",
      "\n",
      "Who gave him a lightning scar\n",
      "\n",
      "Yo, Harry! You're a wizard!\n",
      "\n",
      "Harry goes to Hogwarts\n",
      "\n",
      "He meets Ron and Hermione McGonagall requires he play for Gryffindor\n",
      "\n",
      "Draco is a Daddy's boy\n",
      "\n",
      "Quirrell becomes unemployed\n",
      "\n",
      "The sorcerer's stone is destroyed by Dumbledore\n",
      "\n",
      "Ron breaks his wand\n",
      "\n",
      "Now Ginny's gone\n",
      "\n",
      "And Harry's in mortal danger\n",
      "\n",
      "Tom Riddle hides\n",
      "\n",
      "His snake inside\n",
      "\n",
      "His ginormous secret chamber\n"
     ]
    }
   ],
   "source": [
    "# class 216\n",
    "#with block\n",
    "# context manager\n",
    "with open(\"file1.txt\") as f:\n",
    "    data = f.read()\n",
    "    print(data)\n"
   ]
  },
  {
   "cell_type": "code",
   "execution_count": null,
   "id": "7612306f",
   "metadata": {},
   "outputs": [],
   "source": []
  },
  {
   "cell_type": "code",
   "execution_count": null,
   "id": "f2b7c19c",
   "metadata": {},
   "outputs": [],
   "source": []
  }
 ],
 "metadata": {
  "kernelspec": {
   "display_name": "base",
   "language": "python",
   "name": "python3"
  },
  "language_info": {
   "codemirror_mode": {
    "name": "ipython",
    "version": 3
   },
   "file_extension": ".py",
   "mimetype": "text/x-python",
   "name": "python",
   "nbconvert_exporter": "python",
   "pygments_lexer": "ipython3",
   "version": "3.9.13"
  },
  "vscode": {
   "interpreter": {
    "hash": "6a3f4cb4dec661377f95346190b0ae1884f28c0e9a18077ad24fc5444d7fd5ae"
   }
  }
 },
 "nbformat": 4,
 "nbformat_minor": 5
}
