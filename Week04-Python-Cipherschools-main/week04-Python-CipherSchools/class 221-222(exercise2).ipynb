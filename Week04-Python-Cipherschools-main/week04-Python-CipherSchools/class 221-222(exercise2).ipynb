{
 "cells": [
  {
   "cell_type": "code",
   "execution_count": 4,
   "metadata": {},
   "outputs": [],
   "source": [
    "with open(\"Exercise2.html\", \"r\") as webpage:\n",
    "    with open(\"exercise2.txt\",\"a\") as wf:\n",
    "        for line in webpage.readlines():\n",
    "            if \"<a href=\" in line:\n",
    "                pos = line.find(\"<a href=\")\n",
    "                first_qoute=line.find('\"',pos)\n",
    "                second_qoute=line.find('\"',first_qoute)\n",
    "                url =line[first_qoute+second_qoute]\n",
    "                wf.write(url + \"\\n\")\n"
   ]
  },
  {
   "cell_type": "code",
   "execution_count": null,
   "metadata": {},
   "outputs": [],
   "source": []
  },
  {
   "cell_type": "code",
   "execution_count": null,
   "metadata": {},
   "outputs": [],
   "source": []
  }
 ],
 "metadata": {
  "kernelspec": {
   "display_name": "base",
   "language": "python",
   "name": "python3"
  },
  "language_info": {
   "codemirror_mode": {
    "name": "ipython",
    "version": 3
   },
   "file_extension": ".py",
   "mimetype": "text/x-python",
   "name": "python",
   "nbconvert_exporter": "python",
   "pygments_lexer": "ipython3",
   "version": "3.9.13"
  },
  "orig_nbformat": 4,
  "vscode": {
   "interpreter": {
    "hash": "6a3f4cb4dec661377f95346190b0ae1884f28c0e9a18077ad24fc5444d7fd5ae"
   }
  }
 },
 "nbformat": 4,
 "nbformat_minor": 2
}
