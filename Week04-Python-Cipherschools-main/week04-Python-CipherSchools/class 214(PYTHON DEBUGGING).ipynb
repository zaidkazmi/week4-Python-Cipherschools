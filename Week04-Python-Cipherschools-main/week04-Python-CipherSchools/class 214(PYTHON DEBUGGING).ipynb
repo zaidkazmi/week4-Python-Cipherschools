{
 "cells": [
  {
   "cell_type": "code",
   "execution_count": null,
   "id": "a7646f46",
   "metadata": {},
   "outputs": [],
   "source": [
    "import pdb # import pdb module \n",
    "#module python file contains usefull classes and functions wrote\n",
    "#by developer.\n",
    "\n",
    "#According to wikipedia - Debugging is the process of finding and resolving defects or problems within a computer program that prevent correct operation of computer software or a system.\n",
    "\n",
    "T #why debugging\n",
    "\n",
    "# 1.) our program is not running and cousing unexpected errors.\n",
    "\n",
    "# 2.) our program is working fine but not working the same way we want."
   ]
  },
  {
   "cell_type": "code",
   "execution_count": null,
   "id": "d4d6de7e",
   "metadata": {},
   "outputs": [],
   "source": [
    "#Steps for debugging\n",
    "\n",
    "#1.) set trace\n",
    "\n",
    "#2.) execute code tine by Line"
   ]
  },
  {
   "cell_type": "code",
   "execution_count": 3,
   "id": "3eec806f",
   "metadata": {},
   "outputs": [
    {
     "name": "stdout",
     "output_type": "stream",
     "text": [
      "Please type your name: isha\n",
      "Please type your age: 12\n",
      "hello isha your age is 12\n",
      "isha you will be 17 in next five years\n"
     ]
    }
   ],
   "source": [
    "name =input('Please type your name: ') \n",
    "age= int(input('Please type your age: '))\n",
    "print (f'hello {name} your age is {age}')\n",
    "\n",
    "age2 = age +5 \n",
    "print (f'{name} you will age be {age2} in next five years')\n",
    "        "
   ]
  },
  {
   "cell_type": "code",
   "execution_count": null,
   "id": "077c28a4",
   "metadata": {},
   "outputs": [],
   "source": [
    "import pdb\n",
    "pdb.set_trace()\n",
    "name =input('Please type your name: ') \n",
    "age= (input('Please type your age: '))\n",
    "print(f'hello {name} your age is {age}')\n",
    "\n",
    "age2 = age +5 \n",
    "print (f'{name} you will age be {age2} in next five years')\n",
    "\n",
    "# enter l to run the code\n",
    "# then for next enter n to execute"
   ]
  },
  {
   "cell_type": "code",
   "execution_count": null,
   "id": "81fa0acd",
   "metadata": {},
   "outputs": [],
   "source": [
    "import pdb\n",
    "pdb.set_trace()\n",
    "name =input('Please type your name: ') \n",
    "age= (input('Please type your age: '))\n",
    "print(f'hello {name} your age is {age}')\n",
    "\n",
    "age2 = age +5 \n",
    "print (f'{name} you will age be {age2} in next five years')"
   ]
  },
  {
   "cell_type": "code",
   "execution_count": null,
   "id": "651692fa",
   "metadata": {},
   "outputs": [],
   "source": []
  },
  {
   "cell_type": "code",
   "execution_count": null,
   "id": "863e3e52",
   "metadata": {},
   "outputs": [],
   "source": []
  }
 ],
 "metadata": {
  "kernelspec": {
   "display_name": "Python 3 (ipykernel)",
   "language": "python",
   "name": "python3"
  },
  "language_info": {
   "codemirror_mode": {
    "name": "ipython",
    "version": 3
   },
   "file_extension": ".py",
   "mimetype": "text/x-python",
   "name": "python",
   "nbconvert_exporter": "python",
   "pygments_lexer": "ipython3",
   "version": "3.9.13"
  }
 },
 "nbformat": 4,
 "nbformat_minor": 5
}
