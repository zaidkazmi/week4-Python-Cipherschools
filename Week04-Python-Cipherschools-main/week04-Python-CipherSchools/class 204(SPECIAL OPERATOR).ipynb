{
 "cells": [
  {
   "cell_type": "code",
   "execution_count": 6,
   "id": "cd7d9d9c",
   "metadata": {},
   "outputs": [
    {
     "name": "stdout",
     "output_type": "stream",
     "text": [
      "nokia 1000\n"
     ]
    }
   ],
   "source": [
    "#special magic methods / dunder methods\n",
    "# ==> __ between __\n",
    "#==> str,repr\n",
    "\n",
    "#operator overloading\n",
    "\n",
    "# polymorphism\n",
    "\n",
    "class Phone:\n",
    "    def __init__(self , brand, model, price): \n",
    "        self.brand =brand\n",
    "        self.model =model \n",
    "        self.price = price\n",
    "    def phone_name(self):\n",
    "        return f\"{self.brand} {self.model}\"\n",
    "    def __repr__(self): #we can also use str \n",
    "        return f\"{self.brand} {self.price}\"\n",
    "#l=[1,2,3]\n",
    "#print(l)\n",
    "my_phone=Phone(\"nokia\",\"1000\",1000)\n",
    "print(my_phone)"
   ]
  },
  {
   "cell_type": "code",
   "execution_count": 7,
   "id": "0506792e",
   "metadata": {},
   "outputs": [
    {
     "name": "stdout",
     "output_type": "stream",
     "text": [
      "10\n"
     ]
    }
   ],
   "source": [
    "# magic method for length\n",
    "class Phone:\n",
    "    def __init__(self , brand, model, price): \n",
    "        self.brand =brand\n",
    "        self.model =model \n",
    "        self.price = price\n",
    "    def phone_name(self):\n",
    "        return f\"{self.brand} {self.model}\"\n",
    "    def __repr__(self): #we can also use str \n",
    "        return f\"{self.brand} {self.price}\"\n",
    "    def __len__(self):\n",
    "        return len(self.phone_name())\n",
    "my_phone=Phone(\"nokia\",\"1000\",1000)\n",
    "print(len(my_phone))\n",
    "  "
   ]
  },
  {
   "cell_type": "code",
   "execution_count": 8,
   "id": "87c5cd26",
   "metadata": {},
   "outputs": [
    {
     "name": "stdout",
     "output_type": "stream",
     "text": [
      "1001000\n"
     ]
    }
   ],
   "source": [
    "# operator overflowing\n",
    "class Phone:\n",
    "    def __init__(self , brand, model, price): \n",
    "        self.brand =brand\n",
    "        self.model =model \n",
    "        self.price = price\n",
    "    def phone_name(self):\n",
    "        return f\"{self.brand} {self.model}\"\n",
    "    def __repr__(self): #we can also use str \n",
    "        return f\"{self.brand} {self.price}\"\n",
    "    def __len__(self):\n",
    "        return len(self.phone_name())\n",
    "    def __add__(self,other): #new one we can add sum etc  perform all the function\n",
    "        return self.price + other.price\n",
    "        \n",
    "my_phone=Phone(\"nokia\",\"1000\",1000)\n",
    "my_phone2=Phone(\"apple\",\"x\",1000000)\n",
    "print(my_phone + my_phone2)"
   ]
  },
  {
   "cell_type": "code",
   "execution_count": 17,
   "id": "ca153427",
   "metadata": {},
   "outputs": [],
   "source": [
    "# polymorphisim \n",
    "# many forms\n",
    "class SmartPhone (Phone):\n",
    "    def _init_(self, brand, model, price, camera):\n",
    "        super().__init_(brand, model, price) \n",
    "        self.camera = camera\n",
    "    def phone_name(self):\n",
    "        return f\"{self.brand} {self.model}\"\n",
    "my_phone=Phone(\"nokia\",\"1000\",1000)\n",
    "my_phone2=Phone(\"apple\",\"x\",1000000)\n",
    "my_smartphone = SmartPhone(\"oneplus\",\"5t\",33000,)\n",
    "\n",
    "\n"
   ]
  },
  {
   "cell_type": "code",
   "execution_count": null,
   "id": "34d0a756",
   "metadata": {},
   "outputs": [],
   "source": []
  },
  {
   "cell_type": "code",
   "execution_count": null,
   "id": "86eb5f8c",
   "metadata": {},
   "outputs": [],
   "source": []
  }
 ],
 "metadata": {
  "kernelspec": {
   "display_name": "Python 3 (ipykernel)",
   "language": "python",
   "name": "python3"
  },
  "language_info": {
   "codemirror_mode": {
    "name": "ipython",
    "version": 3
   },
   "file_extension": ".py",
   "mimetype": "text/x-python",
   "name": "python",
   "nbconvert_exporter": "python",
   "pygments_lexer": "ipython3",
   "version": "3.9.13"
  }
 },
 "nbformat": 4,
 "nbformat_minor": 5
}
