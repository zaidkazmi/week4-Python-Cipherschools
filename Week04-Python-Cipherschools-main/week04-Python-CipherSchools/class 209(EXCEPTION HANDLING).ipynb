{
 "cells": [
  {
   "cell_type": "code",
   "execution_count": null,
   "id": "f9b9399e",
   "metadata": {},
   "outputs": [],
   "source": [
    "# EXCEPTION HANDLING\n",
    "# TRY EXCEPT ELSE FINALLY\n",
    "# try to indentify in which line error can happen\n"
   ]
  },
  {
   "cell_type": "code",
   "execution_count": 3,
   "id": "aac16b89",
   "metadata": {},
   "outputs": [
    {
     "name": "stdout",
     "output_type": "stream",
     "text": [
      "enter your age: seven\n"
     ]
    },
    {
     "ename": "ValueError",
     "evalue": "invalid literal for int() with base 10: 'seven'",
     "output_type": "error",
     "traceback": [
      "\u001b[1;31m---------------------------------------------------------------------------\u001b[0m",
      "\u001b[1;31mValueError\u001b[0m                                Traceback (most recent call last)",
      "\u001b[1;32m~\\AppData\\Local\\Temp\\ipykernel_3192\\4157633399.py\u001b[0m in \u001b[0;36m<module>\u001b[1;34m\u001b[0m\n\u001b[1;32m----> 1\u001b[1;33m \u001b[0mage\u001b[0m \u001b[1;33m=\u001b[0m \u001b[0mint\u001b[0m\u001b[1;33m(\u001b[0m\u001b[0minput\u001b[0m\u001b[1;33m(\u001b[0m\u001b[1;34m\"enter your age: \"\u001b[0m\u001b[1;33m)\u001b[0m\u001b[1;33m)\u001b[0m \u001b[1;31m# seven\u001b[0m\u001b[1;33m\u001b[0m\u001b[1;33m\u001b[0m\u001b[0m\n\u001b[0m\u001b[0;32m      2\u001b[0m \u001b[1;32mif\u001b[0m \u001b[0mage\u001b[0m\u001b[1;33m<\u001b[0m\u001b[1;36m18\u001b[0m\u001b[1;33m:\u001b[0m\u001b[1;33m\u001b[0m\u001b[1;33m\u001b[0m\u001b[0m\n\u001b[0;32m      3\u001b[0m     \u001b[0mprint\u001b[0m\u001b[1;33m(\u001b[0m\u001b[1;34m\" you can't play this game\"\u001b[0m\u001b[1;33m)\u001b[0m\u001b[1;33m\u001b[0m\u001b[1;33m\u001b[0m\u001b[0m\n\u001b[0;32m      4\u001b[0m \u001b[1;32melse\u001b[0m\u001b[1;33m:\u001b[0m\u001b[1;33m\u001b[0m\u001b[1;33m\u001b[0m\u001b[0m\n\u001b[0;32m      5\u001b[0m     \u001b[0mprint\u001b[0m\u001b[1;33m(\u001b[0m\u001b[1;34m\" you can play this game.\"\u001b[0m\u001b[1;33m)\u001b[0m\u001b[1;33m\u001b[0m\u001b[1;33m\u001b[0m\u001b[0m\n",
      "\u001b[1;31mValueError\u001b[0m: invalid literal for int() with base 10: 'seven'"
     ]
    }
   ],
   "source": [
    "age = int(input(\"enter your age: \")) # seven\n",
    "if age<18:\n",
    "    print(\" you can't play this game\")\n",
    "else:\n",
    "    print(\" you can play this game.\")\n"
   ]
  },
  {
   "cell_type": "code",
   "execution_count": 4,
   "id": "4c2e9a74",
   "metadata": {},
   "outputs": [
    {
     "name": "stdout",
     "output_type": "stream",
     "text": [
      "enter your age: seven\n",
      "invalid input\n",
      " you can't play this game\n"
     ]
    }
   ],
   "source": [
    "try:\n",
    "    age = int(input(\"enter your age: \")) # seven\n",
    "except:\n",
    "    print(\"invalid input\") # we want the user to do input jab tak sahi input na aye\n",
    "if age<18:\n",
    "    print(\" you can't play this game\")\n",
    "else:\n",
    "    print(\" you can play this game.\")"
   ]
  },
  {
   "cell_type": "code",
   "execution_count": 6,
   "id": "e3864ee8",
   "metadata": {},
   "outputs": [
    {
     "name": "stdout",
     "output_type": "stream",
     "text": [
      "enter your age: #\n",
      "invalid input\n",
      "enter your age: 19\n",
      "you can play this game.\n"
     ]
    }
   ],
   "source": [
    "# we want the user to do input jab tak sahi input na aye\n",
    "while True:\n",
    "    try:\n",
    "        age = int(input(\"enter your age: \")) # seven\n",
    "        break \n",
    "    except ValueError:\n",
    "        print(\"invalid input\") \n",
    "    except:\n",
    "        print(\"unexpected error...\")\n",
    "if age<18:\n",
    "    print(\"you can't play this game\")\n",
    "else:\n",
    "    print(\"you can play this game.\")"
   ]
  },
  {
   "cell_type": "code",
   "execution_count": null,
   "id": "cfd1a7c5",
   "metadata": {},
   "outputs": [],
   "source": []
  }
 ],
 "metadata": {
  "kernelspec": {
   "display_name": "Python 3 (ipykernel)",
   "language": "python",
   "name": "python3"
  },
  "language_info": {
   "codemirror_mode": {
    "name": "ipython",
    "version": 3
   },
   "file_extension": ".py",
   "mimetype": "text/x-python",
   "name": "python",
   "nbconvert_exporter": "python",
   "pygments_lexer": "ipython3",
   "version": "3.9.13"
  }
 },
 "nbformat": 4,
 "nbformat_minor": 5
}
