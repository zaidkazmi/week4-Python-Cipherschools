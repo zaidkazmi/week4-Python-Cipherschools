{
 "cells": [
  {
   "cell_type": "code",
   "execution_count": 1,
   "metadata": {},
   "outputs": [],
   "source": [
    "from csv import DictWriter\n",
    "with open(\"file3.csv\",\"w\",newline=\"\") as f:\n",
    "    csv_writer = DictWriter(f,fieldnames=['firstName','lastName','age'])\n",
    "    csv_writer.writeheader()\n",
    "    csv_writer.writerow({\n",
    "        \"firstName\":\"isha\",\n",
    "        \"lastName\":\"verma\",\n",
    "        \"age\":19\n",
    "    })\n",
    "    csv_writer.writerow({\n",
    "        \"firstName\":\"abc\",\n",
    "        \"lastName\":\"verma\",\n",
    "        \"age\":23\n",
    "    })\n"
   ]
  }
 ],
 "metadata": {
  "kernelspec": {
   "display_name": "base",
   "language": "python",
   "name": "python3"
  },
  "language_info": {
   "codemirror_mode": {
    "name": "ipython",
    "version": 3
   },
   "file_extension": ".py",
   "mimetype": "text/x-python",
   "name": "python",
   "nbconvert_exporter": "python",
   "pygments_lexer": "ipython3",
   "version": "3.9.13"
  },
  "orig_nbformat": 4,
  "vscode": {
   "interpreter": {
    "hash": "6a3f4cb4dec661377f95346190b0ae1884f28c0e9a18077ad24fc5444d7fd5ae"
   }
  }
 },
 "nbformat": 4,
 "nbformat_minor": 2
}
