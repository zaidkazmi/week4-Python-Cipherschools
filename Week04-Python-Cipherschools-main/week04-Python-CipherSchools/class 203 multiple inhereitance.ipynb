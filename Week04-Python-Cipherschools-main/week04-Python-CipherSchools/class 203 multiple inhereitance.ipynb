{
 "cells": [
  {
   "cell_type": "code",
   "execution_count": null,
   "id": "9e868c34",
   "metadata": {},
   "outputs": [],
   "source": [
    "# multiple inhereteince\n"
   ]
  },
  {
   "cell_type": "code",
   "execution_count": 3,
   "id": "a311bc39",
   "metadata": {
    "scrolled": true
   },
   "outputs": [
    {
     "name": "stdout",
     "output_type": "stream",
     "text": [
      "I'm just a class A method\n"
     ]
    }
   ],
   "source": [
    "class A:\n",
    "    def class_a_method(self):\n",
    "        return \"I'm just a class A method\"\n",
    "    def hello(self):\n",
    "        return \"hello from class A\"\n",
    "instance=A()\n",
    "print(instance.class_a_method())"
   ]
  },
  {
   "cell_type": "code",
   "execution_count": 6,
   "id": "8e26e1d4",
   "metadata": {},
   "outputs": [
    {
     "name": "stdout",
     "output_type": "stream",
     "text": [
      "I'm just a class A method\n",
      "I'm just a class B method\n",
      "hello from class A\n",
      "Help on class C in module __main__:\n",
      "\n",
      "class C(A, B)\n",
      " |  Method resolution order:\n",
      " |      C\n",
      " |      A\n",
      " |      B\n",
      " |      builtins.object\n",
      " |  \n",
      " |  Methods inherited from A:\n",
      " |  \n",
      " |  class_a_method(self)\n",
      " |  \n",
      " |  hello(self)\n",
      " |  \n",
      " |  ----------------------------------------------------------------------\n",
      " |  Data descriptors inherited from A:\n",
      " |  \n",
      " |  __dict__\n",
      " |      dictionary for instance variables (if defined)\n",
      " |  \n",
      " |  __weakref__\n",
      " |      list of weak references to the object (if defined)\n",
      " |  \n",
      " |  ----------------------------------------------------------------------\n",
      " |  Methods inherited from B:\n",
      " |  \n",
      " |  class_b_method(self)\n",
      "\n",
      "None\n"
     ]
    }
   ],
   "source": [
    "class A:\n",
    "    def class_a_method(self):\n",
    "        return \"I'm just a class A method\"\n",
    "    def hello(self):\n",
    "        return \"hello from class A\"\n",
    "class B:\n",
    "    def class_b_method(self):\n",
    "        return \"I'm just a class B method\"\n",
    "    def hello(self):\n",
    "        return \"hello from class B\"\n",
    "class C(A,B): # if i write this in the form class(B,A ) then b one will run first then A after it\n",
    "    pass\n",
    "instance_C=C()\n",
    "print(instance_C.class_a_method())\n",
    "print(instance_C.class_b_method())\n",
    "print(instance_C.hello())\n",
    "print(help(C))"
   ]
  },
  {
   "cell_type": "code",
   "execution_count": null,
   "id": "deb1b9ce",
   "metadata": {},
   "outputs": [],
   "source": []
  }
 ],
 "metadata": {
  "kernelspec": {
   "display_name": "base",
   "language": "python",
   "name": "python3"
  },
  "language_info": {
   "codemirror_mode": {
    "name": "ipython",
    "version": 3
   },
   "file_extension": ".py",
   "mimetype": "text/x-python",
   "name": "python",
   "nbconvert_exporter": "python",
   "pygments_lexer": "ipython3",
   "version": "3.9.13 (main, Aug 25 2022, 23:51:50) [MSC v.1916 64 bit (AMD64)]"
  },
  "vscode": {
   "interpreter": {
    "hash": "6a3f4cb4dec661377f95346190b0ae1884f28c0e9a18077ad24fc5444d7fd5ae"
   }
  }
 },
 "nbformat": 4,
 "nbformat_minor": 5
}
