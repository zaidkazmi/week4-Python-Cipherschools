{
 "cells": [
  {
   "cell_type": "code",
   "execution_count": 2,
   "metadata": {},
   "outputs": [],
   "source": [
    "# file2.csv\n",
    "from csv import writer\n",
    "with open(\"file2.csv\",\"w\",newline=\"\") as f:\n",
    "    csv_writer = writer(f)\n",
    "    # method writerow\n",
    "    csv_writer.writerow([\"name\",\"country\"])\n",
    "    csv_writer.writerow([\"isha\",\"INDIA\"])\n",
    "    csv_writer.writerow([\"ABC\",\"INDIA\"])\n",
    "    csv_writer.writerow([\"YATIN\",\"UGANDA\"])\n",
    "\n",
    "   "
   ]
  },
  {
   "cell_type": "code",
   "execution_count": null,
   "metadata": {},
   "outputs": [],
   "source": [
    "from csv import writer\n",
    "with open(\"file2.csv\",\"w\",newline=\"\") as f:\n",
    "    csv_writer = writer(f)\n",
    "    csv_writer.writerows([[\"name\",\"country\"],[\"isha\",\"INDIA\"],[\"YATIN\",\"UGANDA\"]])"
   ]
  },
  {
   "cell_type": "code",
   "execution_count": null,
   "metadata": {},
   "outputs": [],
   "source": []
  }
 ],
 "metadata": {
  "kernelspec": {
   "display_name": "base",
   "language": "python",
   "name": "python3"
  },
  "language_info": {
   "codemirror_mode": {
    "name": "ipython",
    "version": 3
   },
   "file_extension": ".py",
   "mimetype": "text/x-python",
   "name": "python",
   "nbconvert_exporter": "python",
   "pygments_lexer": "ipython3",
   "version": "3.9.13"
  },
  "orig_nbformat": 4,
  "vscode": {
   "interpreter": {
    "hash": "6a3f4cb4dec661377f95346190b0ae1884f28c0e9a18077ad24fc5444d7fd5ae"
   }
  }
 },
 "nbformat": 4,
 "nbformat_minor": 2
}
