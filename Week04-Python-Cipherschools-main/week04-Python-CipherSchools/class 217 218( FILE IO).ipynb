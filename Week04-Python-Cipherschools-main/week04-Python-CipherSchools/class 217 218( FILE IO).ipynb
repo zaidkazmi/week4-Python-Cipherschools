{
 "cells": [
  {
   "cell_type": "code",
   "execution_count": 1,
   "metadata": {},
   "outputs": [
    {
     "name": "stdout",
     "output_type": "stream",
     "text": [
      "hi\n",
      "welcome to the utube channel\n",
      "\n"
     ]
    }
   ],
   "source": [
    "# how to write to a file\n",
    "with open(\"file2.txt\" ,\"r\") as f :\n",
    "    data = f.read()\n",
    "    print(data)"
   ]
  },
  {
   "cell_type": "code",
   "execution_count": 4,
   "metadata": {},
   "outputs": [
    {
     "name": "stdout",
     "output_type": "stream",
     "text": [
      "5\n"
     ]
    }
   ],
   "source": [
    "with open(\"file2.txt\",\"w\") as f:\n",
    "    print(f.write(\"hello\"))\n",
    "   # use \"w\" when the file is empty\n",
    "   #otherwise it will delete the data and write only hello"
   ]
  },
  {
   "cell_type": "code",
   "execution_count": 5,
   "metadata": {},
   "outputs": [],
   "source": [
    "with open(\"file2.txt\",\"a\") as f:\n",
    "    f.write(\"please enter the world\")\n",
    "    # \"a\" means append it will write after the content of the file"
   ]
  },
  {
   "cell_type": "code",
   "execution_count": 6,
   "metadata": {},
   "outputs": [],
   "source": [
    "with open(\"file3.txt\",\"a\") as f:\n",
    "    f.write(\"it will create a new file\")\n",
    "    # i have not created this new file myself append method has done it"
   ]
  },
  {
   "cell_type": "code",
   "execution_count": 9,
   "metadata": {},
   "outputs": [],
   "source": [
    "# r+\n",
    "# we can write and read at one time \n",
    "with open(\"file4.txt\",\"r+\") as f:\n",
    "    f.seek(len(f.read()))\n",
    "    f.write(\"hi there my name is isha verma \")\n",
    "\n"
   ]
  },
  {
   "cell_type": "code",
   "execution_count": 1,
   "metadata": {},
   "outputs": [],
   "source": [
    "# class 218\n",
    "with open(\"file5.txt\",\"r\") as rf:\n",
    "    with open(\"file6.txt\",\"w\") as wf:\n",
    "        wf.write(rf.read())\n",
    "# this will copy and paste the dta of file 5 in empty file that is file no 6"
   ]
  },
  {
   "cell_type": "code",
   "execution_count": null,
   "metadata": {},
   "outputs": [],
   "source": []
  }
 ],
 "metadata": {
  "kernelspec": {
   "display_name": "base",
   "language": "python",
   "name": "python3"
  },
  "language_info": {
   "codemirror_mode": {
    "name": "ipython",
    "version": 3
   },
   "file_extension": ".py",
   "mimetype": "text/x-python",
   "name": "python",
   "nbconvert_exporter": "python",
   "pygments_lexer": "ipython3",
   "version": "3.9.13"
  },
  "orig_nbformat": 4,
  "vscode": {
   "interpreter": {
    "hash": "6a3f4cb4dec661377f95346190b0ae1884f28c0e9a18077ad24fc5444d7fd5ae"
   }
  }
 },
 "nbformat": 4,
 "nbformat_minor": 2
}
